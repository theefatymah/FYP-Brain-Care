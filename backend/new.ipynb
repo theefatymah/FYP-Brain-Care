{
 "cells": [
  {
   "cell_type": "code",
   "execution_count": null,
   "metadata": {},
   "outputs": [
    {
     "name": "stdout",
     "output_type": "stream",
     "text": [
      "Model Accuracy: 1.00\n",
      "✅ Model and Scaler saved successfully!\n"
     ]
    }
   ],
   "source": [
    "# Import necessary libraries\n",
    "import pandas as pd\n",
    "import numpy as np\n",
    "import joblib\n",
    "from sklearn.model_selection import train_test_split\n",
    "from sklearn.preprocessing import StandardScaler\n",
    "from sklearn.ensemble import RandomForestClassifier\n",
    "from sklearn.metrics import accuracy_score\n",
    "\n",
    "# 1️⃣ Load Dataset (Update with your dataset path)\n",
    "# df = pd.read_csv(r\"C:\\Users\\MAYUR\\Desktop\\mental_health_prediction\\mental_health_data_structured.csv\")  # Replace with actual file\n",
    "df = pd.read_csv(\"./mental_health_data_structured.csv\")  # Replace with actual file\n",
    "\n",
    "# 2️⃣ Handle Missing Values (if any)\n",
    "df.fillna(df.mean(), inplace=True)  # Replace NaN with column means\n",
    "\n",
    "# 3️⃣ Encode Categorical Variables (if applicable)\n",
    "df = pd.get_dummies(df, drop_first=True)  # Convert categorical to numeric\n",
    "\n",
    "# 4️⃣ Split Dataset into Features & Labels\n",
    "X = df.drop(columns=[\"mental_health_condition\"])  # Replace \"target\" with actual target column name\n",
    "y = df[\"mental_health_condition\"]  # Define target variable\n",
    "\n",
    "# 5️⃣ Train-Test Split\n",
    "X_train, X_test, y_train, y_test = train_test_split(X, y, test_size=0.2, random_state=42)\n",
    "\n",
    "# 6️⃣ Scale Features\n",
    "scaler = StandardScaler()\n",
    "X_train_scaled = scaler.fit_transform(X_train)\n",
    "X_test_scaled = scaler.transform(X_test)\n",
    "\n",
    "# 7️⃣ Train the Model\n",
    "model = RandomForestClassifier(n_estimators=100, random_state=42)\n",
    "model.fit(X_train_scaled, y_train)\n",
    "\n",
    "# 8️⃣ Evaluate Model\n",
    "y_pred = model.predict(X_test_scaled)\n",
    "accuracy = accuracy_score(y_test, y_pred)\n",
    "print(f\"Model Accuracy: {accuracy:.2f}\")\n",
    "\n",
    "# 9️⃣ Save Model & Scaler\n",
    "joblib.dump(model, \"mental_random_forest.pkl\")\n",
    "joblib.dump(scaler, \"scaler.pkl\")\n",
    "\n",
    "print(\"✅ Model and Scaler saved successfully!\")\n"
   ]
  }
 ],
 "metadata": {
  "kernelspec": {
   "display_name": "Python 3",
   "language": "python",
   "name": "python3"
  },
  "language_info": {
   "codemirror_mode": {
    "name": "ipython",
    "version": 3
   },
   "file_extension": ".py",
   "mimetype": "text/x-python",
   "name": "python",
   "nbconvert_exporter": "python",
   "pygments_lexer": "ipython3",
   "version": "3.13.5"
  }
 },
 "nbformat": 4,
 "nbformat_minor": 2
}
